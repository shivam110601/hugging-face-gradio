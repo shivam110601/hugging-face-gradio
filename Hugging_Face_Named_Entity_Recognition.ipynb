{
  "nbformat": 4,
  "nbformat_minor": 0,
  "metadata": {
    "colab": {
      "provenance": [],
      "authorship_tag": "ABX9TyNXjflzb8XiBTp9Ti1J2FTf",
      "include_colab_link": true
    },
    "kernelspec": {
      "name": "python3",
      "display_name": "Python 3"
    },
    "language_info": {
      "name": "python"
    }
  },
  "cells": [
    {
      "cell_type": "markdown",
      "metadata": {
        "id": "view-in-github",
        "colab_type": "text"
      },
      "source": [
        "<a href=\"https://colab.research.google.com/github/shivam110601/hugging-face-gradio/blob/main/Hugging_Face_Named_Entity_Recognition.ipynb\" target=\"_parent\"><img src=\"https://colab.research.google.com/assets/colab-badge.svg\" alt=\"Open In Colab\"/></a>"
      ]
    },
    {
      "cell_type": "code",
      "execution_count": null,
      "metadata": {
        "id": "KG9ArvRDwbOO"
      },
      "outputs": [],
      "source": [
        "!pip install gradio transformers torch"
      ]
    },
    {
      "cell_type": "code",
      "source": [
        "import gradio\n",
        "from transformers import pipeline"
      ],
      "metadata": {
        "id": "ZGonm4-cwckK"
      },
      "execution_count": 2,
      "outputs": []
    },
    {
      "cell_type": "code",
      "source": [
        "ner_pipeline = pipeline(\"ner\", grouped_entities=True)"
      ],
      "metadata": {
        "id": "sAmWPJO5wes8"
      },
      "execution_count": null,
      "outputs": []
    },
    {
      "cell_type": "code",
      "source": [
        "def recognize_entities(text):\n",
        "    result = ner_pipeline(text)\n",
        "    entities = []\n",
        "    for entity in result:\n",
        "        entities.append({\n",
        "            'entity': entity['entity_group'],\n",
        "            'word': entity['word'],\n",
        "            'score': entity['score']\n",
        "        })\n",
        "    output = {\"text\": text, \"entities\": result}\n",
        "    return output, entities"
      ],
      "metadata": {
        "id": "7NWiYciHxor4"
      },
      "execution_count": 40,
      "outputs": []
    },
    {
      "cell_type": "code",
      "source": [
        "interface = gradio.Interface(\n",
        "    fn=recognize_entities,\n",
        "    inputs=gradio.Textbox(label=\"Input text for Named Entity Recognition\", lines=3),\n",
        "    outputs=[gradio.HighlightedText(label=\"Text with Recognized Entities\"), gradio.JSON(label=\"JSON Output\", visible=False)],\n",
        "    title=\"Named Entity Recognition\",\n",
        "    description=\"Enter a sentence and get the named entities recognized.\",\n",
        "    examples=[\"Modiji is the current prime minister of India.\", \"India won the T20 World Cup of 2024.\", \\\n",
        "              \"The novel 'To Kill a Mockingbird' was written by Harper Lee and published in 1960.\"]\n",
        ")"
      ],
      "metadata": {
        "id": "RfkFMbfHx1sL"
      },
      "execution_count": 41,
      "outputs": []
    },
    {
      "cell_type": "code",
      "source": [
        "interface.launch()"
      ],
      "metadata": {
        "colab": {
          "base_uri": "https://localhost:8080/",
          "height": 625
        },
        "id": "rcbcRi6JyYA8",
        "outputId": "6d5a1db8-7f6f-4c94-99d8-15725b4e36cb"
      },
      "execution_count": 43,
      "outputs": [
        {
          "output_type": "stream",
          "name": "stdout",
          "text": [
            "Setting queue=True in a Colab notebook requires sharing enabled. Setting `share=True` (you can turn this off by setting `share=False` in `launch()` explicitly).\n",
            "\n",
            "Colab notebook detected. To show errors in colab notebook, set debug=True in launch()\n",
            "Running on public URL: https://4243716aa73fb36a45.gradio.live\n",
            "\n",
            "This share link expires in 72 hours. For free permanent hosting and GPU upgrades, run `gradio deploy` from Terminal to deploy to Spaces (https://huggingface.co/spaces)\n"
          ]
        },
        {
          "output_type": "display_data",
          "data": {
            "text/plain": [
              "<IPython.core.display.HTML object>"
            ],
            "text/html": [
              "<div><iframe src=\"https://4243716aa73fb36a45.gradio.live\" width=\"100%\" height=\"500\" allow=\"autoplay; camera; microphone; clipboard-read; clipboard-write;\" frameborder=\"0\" allowfullscreen></iframe></div>"
            ]
          },
          "metadata": {}
        },
        {
          "output_type": "execute_result",
          "data": {
            "text/plain": []
          },
          "metadata": {},
          "execution_count": 43
        }
      ]
    },
    {
      "cell_type": "code",
      "source": [
        "interface.close()"
      ],
      "metadata": {
        "colab": {
          "base_uri": "https://localhost:8080/"
        },
        "id": "2FNl5d1yybqg",
        "outputId": "a400121d-90e4-4209-ad1e-2c880d1165ef"
      },
      "execution_count": 44,
      "outputs": [
        {
          "output_type": "stream",
          "name": "stdout",
          "text": [
            "Closing server running on port: 7866\n"
          ]
        }
      ]
    },
    {
      "cell_type": "code",
      "source": [],
      "metadata": {
        "id": "CeIQe4chyenn"
      },
      "execution_count": null,
      "outputs": []
    }
  ]
}