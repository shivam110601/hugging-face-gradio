{
  "nbformat": 4,
  "nbformat_minor": 0,
  "metadata": {
    "colab": {
      "provenance": [],
      "authorship_tag": "ABX9TyMDVqzXZ6G+5kDPYLcNQLjU",
      "include_colab_link": true
    },
    "kernelspec": {
      "name": "python3",
      "display_name": "Python 3"
    },
    "language_info": {
      "name": "python"
    }
  },
  "cells": [
    {
      "cell_type": "markdown",
      "metadata": {
        "id": "view-in-github",
        "colab_type": "text"
      },
      "source": [
        "<a href=\"https://colab.research.google.com/github/shivam110601/hugging-face-gradio/blob/main/Hugging_Face_Sentiment_Analysis.ipynb\" target=\"_parent\"><img src=\"https://colab.research.google.com/assets/colab-badge.svg\" alt=\"Open In Colab\"/></a>"
      ]
    },
    {
      "cell_type": "code",
      "execution_count": null,
      "metadata": {
        "id": "CGGhHaiwU7qH"
      },
      "outputs": [],
      "source": [
        "!pip install gradio transformers torch"
      ]
    },
    {
      "cell_type": "code",
      "source": [
        "import gradio\n",
        "from transformers import pipeline"
      ],
      "metadata": {
        "id": "TmmrPwmqZgWe"
      },
      "execution_count": 2,
      "outputs": []
    },
    {
      "cell_type": "code",
      "source": [
        "# Load a sentiment analysis pipeline using an open-source LLM\n",
        "sentiment_pipeline = pipeline(\"sentiment-analysis\", model = \"distilbert/distilbert-base-uncased-finetuned-sst-2-english\")\n",
        "\n",
        "# Define a function that uses the pipeline to predict sentiment\n",
        "def analyze_sentiment(text):\n",
        "    result = sentiment_pipeline(text)\n",
        "    return result[0]['label'], result[0]['score']\n",
        "\n",
        "# Create a Gradio interface\n",
        "interface = gradio.Interface(\n",
        "    fn=analyze_sentiment,\n",
        "    inputs=[gradio.Textbox(label=\"Text for Sentiment Analysis\", lines=3)],\n",
        "    outputs=[gradio.Textbox(label = \"Detected Sentiment\"), gradio.Number(label = \"Sentiment Score\")],\n",
        "    title=\"Sentiment Analysis\",\n",
        "    description=\"Enter a sentence and get the sentiment along with its confidence score.\",\n",
        "    examples=[\"I love this!\", \"I hate this!\", \"This is okay.\"]\n",
        ")"
      ],
      "metadata": {
        "id": "WvODMOF9hlXg"
      },
      "execution_count": null,
      "outputs": []
    },
    {
      "cell_type": "code",
      "source": [
        "interface.launch()"
      ],
      "metadata": {
        "id": "0k4ieaKtib17",
        "colab": {
          "base_uri": "https://localhost:8080/",
          "height": 625
        },
        "outputId": "27143419-ecce-4f84-811f-a12cbd14b329"
      },
      "execution_count": 4,
      "outputs": [
        {
          "output_type": "stream",
          "name": "stdout",
          "text": [
            "Setting queue=True in a Colab notebook requires sharing enabled. Setting `share=True` (you can turn this off by setting `share=False` in `launch()` explicitly).\n",
            "\n",
            "Colab notebook detected. To show errors in colab notebook, set debug=True in launch()\n",
            "Running on public URL: https://ba25192b2bae957f9c.gradio.live\n",
            "\n",
            "This share link expires in 72 hours. For free permanent hosting and GPU upgrades, run `gradio deploy` from Terminal to deploy to Spaces (https://huggingface.co/spaces)\n"
          ]
        },
        {
          "output_type": "display_data",
          "data": {
            "text/plain": [
              "<IPython.core.display.HTML object>"
            ],
            "text/html": [
              "<div><iframe src=\"https://ba25192b2bae957f9c.gradio.live\" width=\"100%\" height=\"500\" allow=\"autoplay; camera; microphone; clipboard-read; clipboard-write;\" frameborder=\"0\" allowfullscreen></iframe></div>"
            ]
          },
          "metadata": {}
        },
        {
          "output_type": "execute_result",
          "data": {
            "text/plain": []
          },
          "metadata": {},
          "execution_count": 4
        }
      ]
    },
    {
      "cell_type": "code",
      "source": [
        "interface.close()"
      ],
      "metadata": {
        "id": "j-7FrYS8kX7z"
      },
      "execution_count": 56,
      "outputs": []
    },
    {
      "cell_type": "code",
      "source": [],
      "metadata": {
        "id": "gHS7ZyAjpKmn"
      },
      "execution_count": null,
      "outputs": []
    }
  ]
}